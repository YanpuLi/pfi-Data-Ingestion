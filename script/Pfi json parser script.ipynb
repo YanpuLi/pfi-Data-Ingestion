{
 "cells": [
  {
   "cell_type": "code",
   "execution_count": 1,
   "metadata": {
    "collapsed": false,
    "scrolled": false
   },
   "outputs": [
    {
     "ename": "IndentationError",
     "evalue": "expected an indented block (<ipython-input-1-985eb6843756>, line 43)",
     "output_type": "error",
     "traceback": [
      "\u001b[0;36m  File \u001b[0;32m\"<ipython-input-1-985eb6843756>\"\u001b[0;36m, line \u001b[0;32m43\u001b[0m\n\u001b[0;31m    finally:\u001b[0m\n\u001b[0m            ^\u001b[0m\n\u001b[0;31mIndentationError\u001b[0m\u001b[0;31m:\u001b[0m expected an indented block\n"
     ]
    }
   ],
   "source": [
    "import csv\n",
    "import json\n",
    "import time, datetime\n",
    "\n",
    "input_file='/Users/Lesley/Desktop/test 2.csv'\n",
    "input_data = open(input_file, 'rb')\n",
    "intermediate = []\n",
    "output = {}\n",
    "\n",
    "try:\n",
    "    reader = csv.reader(input_data)\n",
    "    for row in reader:\n",
    "        count = 0\n",
    "        #splitting raw data into sections by using blank line as deliminator\n",
    "        if row[0] != '':\n",
    "            intermediate.append(row)\n",
    "        #then identifying this section is meta data or experiment content\n",
    "        else:\n",
    "            print 'len%s'%len(intermediate)\n",
    "            if (len(intermediate) > 0):\n",
    "                if ('Export Info' in intermediate[0]):\n",
    "                    output['MetaData'] = {}\n",
    "                    for i in range(1,len(intermediate)):\n",
    "                        output['MetaData'][intermediate[i][0]] = intermediate[i][1]\n",
    "                    intermediate = []\n",
    "        \n",
    "                elif ('Sample Table' in intermediate[0]):\n",
    "                    output['ExperimentData'] = {}\n",
    "                    output['ExperimentData']['Title'] = intermediate[0]\n",
    "                    output['ExperimentData']['Unit'] = intermediate[2]\n",
    "                    output['ExperimentData']['Content'] = []\n",
    "                    exper = {}\n",
    "                    for i in range(3,len(intermediate)):\n",
    "                        for j in range(len(intermediate[1])):             \n",
    "                            exper[intermediate[1][j]] = intermediate[i][j]\n",
    "                        output['ExperimentData']['Content'].append(exper)\n",
    "                        exper = {}\n",
    "                    intermediate = []\n",
    "                else:\n",
    "                    \n",
    "                        \n",
    "                \n",
    "finally:\n",
    "    input_data.close()"
   ]
  },
  {
   "cell_type": "code",
   "execution_count": 2,
   "metadata": {
    "collapsed": false,
    "scrolled": true
   },
   "outputs": [
    {
     "name": "stdout",
     "output_type": "stream",
     "text": [
      "Export Info\n",
      "1\n",
      "Product Name\n",
      "2\n",
      "Version\n",
      "3\n",
      "SerialNumber\n",
      "4\n",
      "DataBase Version\n",
      "5\n",
      "Sample Table\n",
      "7\n",
      "Time\n",
      "8\n",
      "YYYY-MM-DD\n",
      "9\n",
      "1/26/16\n",
      "10\n",
      "meta\n",
      "12\n",
      "name\n",
      "13\n",
      "meta2\n",
      "15\n",
      "aa\n",
      "16\n"
     ]
    },
    {
     "data": {
      "text/plain": [
       "{'ExperimentData': {'Content': [{'Tc': '1',\n",
       "    'Time': '1/26/16',\n",
       "    'Tj': '1',\n",
       "    'Tr': '1',\n",
       "    'V1': '0',\n",
       "    'pH': ''}],\n",
       "  'Title': ['Sample Table', 'Zone 1', 'TZ', '', '', ''],\n",
       "  'Unit': ['YYYY-MM-DD', 'degree', 'degree', 'degree', '', 'ml']},\n",
       " 'MetaData0': {'DataBase Version': '',\n",
       "  'Product Name': 'xx',\n",
       "  'SerialNumber': '',\n",
       "  'Version': '1.1'},\n",
       " 'MetaData2': {'name': 'r'}}"
      ]
     },
     "execution_count": 2,
     "metadata": {},
     "output_type": "execute_result"
    }
   ],
   "source": [
    "import csv\n",
    "import json\n",
    "import time, datetime\n",
    "\n",
    "def parseMeta(count, array):\n",
    "    strName = \"MetaData%i\"%(count-1)\n",
    "    output[strName] = {}\n",
    "    for i in range(1,len(array)):\n",
    "        output[strName][array[i][0]] = array[i][1]\n",
    "\n",
    "input_file='/Users/Lesley/Desktop/test 2.csv'\n",
    "input_data = open(input_file, 'r')\n",
    "intermediate = []\n",
    "output = {}\n",
    "\n",
    "try:\n",
    "    reader = csv.reader(input_data)\n",
    "    count = 0\n",
    "    countLine = 0\n",
    "    for row in reader:\n",
    "        countLine = countLine + 1\n",
    "        #splitting raw data into sections by using blank line as deliminator\n",
    "        if row[0] != '':\n",
    "            intermediate.append(row)\n",
    "            print row[0]\n",
    "            print countLine\n",
    "\n",
    "\n",
    "        #then identifying this section is meta data or experiment content\n",
    "        elif (row[0] == '') or (countLine == len(list(reader))+1):  \n",
    "            count = count +1\n",
    "            if (len(intermediate) > 0):\n",
    "                if ('Export Info' in intermediate[0]):\n",
    "                    parseMeta(count, intermediate)\n",
    "                    intermediate = []\n",
    "       \n",
    "                elif ('Sample Table' in intermediate[0]):\n",
    "                    output['ExperimentData'] = {}\n",
    "                    output['ExperimentData']['Title'] = intermediate[0]\n",
    "                    output['ExperimentData']['Unit'] = intermediate[2]\n",
    "                    output['ExperimentData']['Content'] = []\n",
    "                    exper = {}\n",
    "                    for i in range(3,len(intermediate)):\n",
    "                        for j in range(len(intermediate[1])):             \n",
    "                            exper[intermediate[1][j]] = intermediate[i][j]\n",
    "                        output['ExperimentData']['Content'].append(exper)\n",
    "                        exper = {}\n",
    "                    intermediate = []\n",
    "                else:\n",
    "                    parseMeta(count, intermediate)\n",
    "                    intermediate = []\n",
    "                    \n",
    "                        \n",
    "                \n",
    "finally:\n",
    "    input_data.close()\n",
    "output"
   ]
  },
  {
   "cell_type": "code",
   "execution_count": null,
   "metadata": {
    "collapsed": true
   },
   "outputs": [],
   "source": [
    "# import csv\n",
    "import json\n",
    "\n",
    "\n",
    "def parseMeta(count, array):\n",
    "    strName = \"MetaData%i\"%(count-1)\n",
    "    output[strName] = {}\n",
    "    for i in range(1,len(array)):\n",
    "        output[strName][array[i][0]] = array[i][1]\n",
    "\n",
    "input_file='/Users/Lesley/Desktop/test 2.csv'\n",
    "input_data = open(input_file, 'r')\n",
    "intermediate = []\n",
    "output = {}\n",
    "\n",
    "try:\n",
    "    reader = csv.reader(input_data)\n",
    "    # count: num of sections, countLine: num of lines\n",
    "    count = 0\n",
    "    countLine = 0\n",
    "    \n",
    "    \n",
    "\n",
    "    for row in reader:     \n",
    "        countLine = countLine + 1\n",
    "      \n",
    "        #splitting raw data into sections by using blank line as deliminator\n",
    "        if row[0] != '' and countLine != 16:\n",
    "            intermediate.append(row)\n",
    "            \n",
    "        elif row[0] != '' and countLine == 16: \n",
    "            output['MetaDataLast'] = {}\n",
    "            for i in range(1,(len(intermediate)+1)):\n",
    "                if i < len(intermediate):\n",
    "                    output['MetaDataLast'][intermediate[i][0]] = intermediate[i][1]\n",
    "                else:\n",
    "                    output['MetaDataLast'][row[0]] = row[1]\n",
    "              \n",
    "        else:  \n",
    "            count = count +1\n",
    "            if ('Sample Table' in intermediate[0]):\n",
    "                output['ExperimentData'] = {}\n",
    "                output['ExperimentData']['Title'] = intermediate[0]\n",
    "                output['ExperimentData']['Unit'] = intermediate[2]\n",
    "                output['ExperimentData']['Content'] = []\n",
    "                exper = {}\n",
    "                for i in range(3,len(intermediate)):\n",
    "                    for j in range(len(intermediate[1])):             \n",
    "                        exper[intermediate[1][j]] = intermediate[i][j]\n",
    "                    output['ExperimentData']['Content'].append(exper)\n",
    "                    exper = {}\n",
    "                intermediate = []\n",
    "            else:\n",
    "                parseMeta(count, intermediate)\n",
    "                intermediate = []\n",
    "            \n",
    "                    \n",
    "                        \n",
    "                \n",
    "finally:\n",
    "    input_data.close()\n"
   ]
  },
  {
   "cell_type": "code",
   "execution_count": 8,
   "metadata": {
    "collapsed": false
   },
   "outputs": [
    {
     "data": {
      "text/plain": [
       "16"
      ]
     },
     "execution_count": 8,
     "metadata": {},
     "output_type": "execute_result"
    }
   ],
   "source": [
    "input_file='/Users/Lesley/Desktop/test 2.csv'\n",
    "input_data = open(input_file, 'r')\n",
    "reader = csv.reader(input_data)\n",
    "a= list(reader)\n",
    "len(a)"
   ]
  },
  {
   "cell_type": "markdown",
   "metadata": {},
   "source": [
    "XML to Json"
   ]
  },
  {
   "cell_type": "code",
   "execution_count": 1,
   "metadata": {
    "collapsed": false
   },
   "outputs": [],
   "source": [
    "import xmltodict\n",
    "import operator\n",
    "\n",
    "with open('/Users/Lesley/Desktop/Pfizer icdata test/faked.xml') as fd:\n",
    "    doc = xmltodict.parse(fd.read())"
   ]
  },
  {
   "cell_type": "code",
   "execution_count": 20,
   "metadata": {
    "collapsed": false
   },
   "outputs": [
    {
     "data": {
      "text/plain": [
       "37449"
      ]
     },
     "execution_count": 20,
     "metadata": {},
     "output_type": "execute_result"
    }
   ],
   "source": [
    "#number of values in one attribute column\n",
    "len(doc['Experiment']['Trends']['Trend'][0]['V'])"
   ]
  },
  {
   "cell_type": "code",
   "execution_count": 22,
   "metadata": {
    "collapsed": false
   },
   "outputs": [
    {
     "data": {
      "text/plain": [
       "7"
      ]
     },
     "execution_count": 22,
     "metadata": {},
     "output_type": "execute_result"
    }
   ],
   "source": [
    "#number of attributes\n",
    "len(doc['Experiment']['Trends']['Trend'])\n",
    "doc['Experiment']['Trends']['Trend'][0]['V']\n",
    "doc['Experiment']['Trends']['Trend'][0]['V'][0]['#text']"
   ]
  },
  {
   "cell_type": "code",
   "execution_count": 26,
   "metadata": {
    "collapsed": true
   },
   "outputs": [],
   "source": [
    "output = {}\n",
    "output['MetaData'] = {}\n",
    "output['MetaData']['ExperimentId'] = doc['Experiment']['@Name']\n",
    "output['MetaData']['StartTimeLocal'] = doc['Experiment']['@StartTimeLocal']\n",
    "output['MetaData']['Duration'] = doc['Experiment']['@Duration']\n",
    "output['MetaData']['User'] = doc['Experiment']['@User']\n",
    "\n",
    "output['ExperimentData'] = {}\n",
    "output['ExperimentData']['Unit'] = {}\n",
    "output['ExperimentData']['Content'] = []\n",
    "record = {}\n",
    "attributeList = []\n",
    "count = {}\n",
    "\n",
    "# generating output content: meta, unit\n",
    "for i in range(len(doc['Experiment']['Trends']['Trend'])):\n",
    "    output['ExperimentData']['Unit'][doc['Experiment']['Trends']['Trend'][i]['@Name']] = doc['Experiment']['Trends']['Trend'][i]['@Unit']\n",
    "    attributeList.append(doc['Experiment']['Trends']['Trend'][i]['@Name'])\n",
    "    count[doc['Experiment']['Trends']['Trend'][i]['@Name']+'/'+ str(i)] = len(doc['Experiment']['Trends']['Trend'][i]['V'])\n",
    "  "
   ]
  },
  {
   "cell_type": "code",
   "execution_count": 27,
   "metadata": {
    "collapsed": false
   },
   "outputs": [],
   "source": [
    "# finding the attribute which has the highest number of values\n",
    "sorted_count = sorted(count.items(), key=operator.itemgetter(1))\n",
    "timeStamp = []\n",
    "for i in range(sorted_count[len(sorted_count)-1][1]):\n",
    "    record[sorted_count[len(sorted_count)-1][0][:-2]] = doc['Experiment']['Trends']['Trend'][int(sorted_count[len(sorted_count)-1][0].split('/')[1])]['V'][i]['#text']\n",
    "    record['Time'] = doc['Experiment']['Trends']['Trend'][int(sorted_count[len(sorted_count)-1][0].split('/')[1])]['V'][i]['@T']\n",
    "    output['ExperimentData']['Content'].append(record)\n",
    "    timeStamp.append(doc['Experiment']['Trends']['Trend'][int(sorted_count[len(sorted_count)-1][0].split('/')[1])]['V'][i]['@T'])\n",
    "    record = {}"
   ]
  },
  {
   "cell_type": "code",
   "execution_count": 204,
   "metadata": {
    "collapsed": false
   },
   "outputs": [],
   "source": [
    "import pandas as pd\n",
    "\n",
    "data = pd.DataFrame(output['ExperimentData']['Content'])"
   ]
  },
  {
   "cell_type": "code",
   "execution_count": 229,
   "metadata": {
    "collapsed": false,
    "scrolled": true
   },
   "outputs": [],
   "source": [
    "import json\n",
    "with open('test1.json','w') as outfile:\n",
    "            json.dump(datax, outfile, indent = 4)"
   ]
  },
  {
   "cell_type": "code",
   "execution_count": 205,
   "metadata": {
    "collapsed": true
   },
   "outputs": [],
   "source": [
    "# extracting all the attributes values putting in out, json format\n",
    "out = {}\n",
    "temp = {}\n",
    "for i in range(len(doc['Experiment']['Trends']['Trend'])):\n",
    "    out[doc['Experiment']['Trends']['Trend'][i]['@Name']] = []\n",
    "    for j in range(len(doc['Experiment']['Trends']['Trend'][i]['V'])):\n",
    "        temp[doc['Experiment']['Trends']['Trend'][i]['@Name']] = doc['Experiment']['Trends']['Trend'][i]['V'][j]['#text']\n",
    "        temp['Time'] = doc['Experiment']['Trends']['Trend'][i]['V'][j]['@T']\n",
    "        out[doc['Experiment']['Trends']['Trend'][i]['@Name']].append(temp)\n",
    "        temp = {}"
   ]
  },
  {
   "cell_type": "code",
   "execution_count": 233,
   "metadata": {
    "collapsed": false
   },
   "outputs": [],
   "source": [
    "# doing outer merge of all attributes values\n",
    "pd1 = pd.DataFrame(out[attributeList[0]])\n",
    "for i in range(1, len(attributeList)):\n",
    "    pd2 = pd.DataFrame(out[attributeList[i]])\n",
    "    pd1 = pd.merge(pd1, pd2, how = 'outer', on = 'Time')\n",
    "pd1.fillna(0, inplace= True)  "
   ]
  },
  {
   "cell_type": "code",
   "execution_count": 259,
   "metadata": {
    "collapsed": false
   },
   "outputs": [
    {
     "name": "stdout",
     "output_type": "stream",
     "text": [
      "0:00:28.179330\n"
     ]
    }
   ],
   "source": [
    "from datetime import datetime\n",
    "start=datetime.now()\n",
    "tempValueDict = {}\n",
    "output['ExperimentData']['Content'] = []\n",
    "for i in range(len(pd1)):\n",
    "    for j in attributeList:\n",
    "        tempValueDict[j] = pd1.loc[i][j]\n",
    "    output['ExperimentData']['Content'].append(tempValueDict)\n",
    "    \n",
    "    tempValueDict = {}\n",
    "print datetime.now()-start"
   ]
  },
  {
   "cell_type": "code",
   "execution_count": 262,
   "metadata": {
    "collapsed": false
   },
   "outputs": [
    {
     "name": "stdout",
     "output_type": "stream",
     "text": [
      "Time     00:00:00\n",
      "Tr         23.246\n",
      "Tj         23.004\n",
      "Tc         9.4837\n",
      "Tset           23\n",
      "R               0\n",
      "V1Set           0\n",
      "Tr-Tj      0.2418\n",
      "Name: 0, dtype: object\n",
      "Time     00:00:06\n",
      "Tr         23.246\n",
      "Tj         22.996\n",
      "Tc         9.4299\n",
      "Tset            0\n",
      "R               0\n",
      "V1Set           0\n",
      "Tr-Tj     0.25008\n",
      "Name: 1, dtype: object\n",
      "Time     00:00:08\n",
      "Tr         23.247\n",
      "Tj             23\n",
      "Tc         9.4121\n",
      "Tset            0\n",
      "R               0\n",
      "V1Set           0\n",
      "Tr-Tj     0.24665\n",
      "Name: 2, dtype: object\n",
      "0:00:00.006141\n"
     ]
    }
   ],
   "source": [
    "from datetime import datetime\n",
    "start=datetime.now()\n",
    "tempValueDict = {}\n",
    "output['ExperimentData']['Content'] = []\n",
    "for i in range(0,3):\n",
    "    tempValueDict = pd1.loc[i]\n",
    "    output['ExperimentData']['Content'].append(tempValueDict)\n",
    "    print tempValueDict\n",
    "    tempValueDict = {}\n",
    "print datetime.now()-start"
   ]
  },
  {
   "cell_type": "code",
   "execution_count": 274,
   "metadata": {
    "collapsed": true
   },
   "outputs": [],
   "source": [
    "attributeListNew = attributeList.remove(sorted_count[len(sorted_count)-1][0].split('/')[0])"
   ]
  },
  {
   "cell_type": "code",
   "execution_count": null,
   "metadata": {
    "collapsed": true
   },
   "outputs": [],
   "source": []
  }
 ],
 "metadata": {
  "kernelspec": {
   "display_name": "Python 2",
   "language": "python",
   "name": "python2"
  },
  "language_info": {
   "codemirror_mode": {
    "name": "ipython",
    "version": 2
   },
   "file_extension": ".py",
   "mimetype": "text/x-python",
   "name": "python",
   "nbconvert_exporter": "python",
   "pygments_lexer": "ipython2",
   "version": "2.7.11"
  }
 },
 "nbformat": 4,
 "nbformat_minor": 0
}
